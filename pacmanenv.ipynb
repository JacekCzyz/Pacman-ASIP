print("Switching to testing mode...")
env = PacmanEnv(render_mode=True)
state = env.reset()
rewardMain = 0
model = DQN("MlpPolicy", env, verbose=1, buffer_size=1000)

model.load("pacman_dqn_model.zip")

state = env.reset()

rewards = []
durations = []
episodes = 15

for episode in range(episodes):
    state = env.reset()
    episode_reward = 0
    steps = 0
    done = False

    while not done:
        action, _ = model.predict(state)
        state, reward, done, _ = env.step(action)
        episode_reward += reward
        steps += 1

    rewards.append(episode_reward)
    durations.append(steps)

file = open("tests.txt")
file.write("DQN model for {episodes} episodes")    
for i in range(rewards.count()):
    file.write("episode {i}:", "reward ",rewards[i], " duration: ", durations[i])    
    
env.close()

